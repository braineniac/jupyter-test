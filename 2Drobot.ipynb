{
 "cells": [
  {
   "cell_type": "markdown",
   "metadata": {},
   "source": [
    "# Robot on a 2-D plane"
   ]
  },
  {
   "cell_type": "code",
   "execution_count": 1,
   "metadata": {},
   "outputs": [],
   "source": [
    "from sympy import *\n",
    "from sympy.physics.mechanics import dynamicsymbols\n",
    "init_printing()"
   ]
  },
  {
   "cell_type": "markdown",
   "metadata": {},
   "source": [
    "## Let's define a system in the form:\n",
    "\\begin{align}\n",
    "\\dot{x} &= A x + B u \\\\\n",
    "y &= C^T x\\\\\n",
    "\\end{align}"
   ]
  },
  {
   "cell_type": "markdown",
   "metadata": {},
   "source": [
    "## With the states:\n",
    "\\begin{align}\n",
    "x &= [x_1,x_2,x_3,x_4,x_5,x_6]^T\n",
    "\\end{align}\n",
    "\n",
    "### where:\n",
    "\n",
    "$x_1$ - distance in x on the plane from origin\n",
    "\n",
    "$x_2$ - distance in y on the plane from origin\n",
    "\n",
    "$x_3$ - speed in relation to the robot's x direction\n",
    "\n",
    "$x_4$ - acceleration in relation to the robot's x direction\n",
    "\n",
    "$x_5$ - rotation around the robot's z-axis\n",
    "\n",
    "$x_6$ - angular velocity around the robot's z-axis"
   ]
  },
  {
   "cell_type": "code",
   "execution_count": 2,
   "metadata": {},
   "outputs": [],
   "source": [
    "t = Symbol(\"t\")\n",
    "x1 = dynamicsymbols(\"x1\")\n",
    "x2 = dynamicsymbols(\"x2\")\n",
    "x3 = dynamicsymbols(\"x3\")\n",
    "x4 = x3.diff(t)\n",
    "x5 = dynamicsymbols(\"x5\")\n",
    "x6 = x5.diff(t)"
   ]
  },
  {
   "cell_type": "markdown",
   "metadata": {},
   "source": [
    "## With the input:\n",
    "\\begin{align}\n",
    "u &= [F_x,\\tau_z]^T\n",
    "\\end{align}\n",
    "\n",
    "### where:\n",
    "\n",
    "$F_x$ - Force in the robot's relative x direction\n",
    "\n",
    "$\\tau_z$ - Moment around the robot's z-axis"
   ]
  },
  {
   "cell_type": "code",
   "execution_count": 3,
   "metadata": {},
   "outputs": [],
   "source": [
    "F_x = Symbol(\"F_x\")\n",
    "tau_z = Symbol(\"tau_z\")"
   ]
  },
  {
   "cell_type": "markdown",
   "metadata": {},
   "source": [
    "## With the output:\n",
    "\\begin{align}\n",
    "y &= [a_{accel},\\dot{\\psi}_{gyro,z}]^T\n",
    "\\end{align}\n",
    "\n",
    "### where:\n",
    "\n",
    "$a_{accel,x}$ - acceleration measured in the x direction by the accelerometer\n",
    "\n",
    "$\\dot{\\psi}_{gyro,z}$ - angular velocity measured by the gyroscope on the robot"
   ]
  },
  {
   "cell_type": "code",
   "execution_count": 4,
   "metadata": {},
   "outputs": [],
   "source": [
    "a_accelx = Symbol(\"a_accelx\")\n",
    "dpsi_gyroz = Symbol(\"dpsi_gyroz\")"
   ]
  },
  {
   "cell_type": "markdown",
   "metadata": {},
   "source": [
    "## We can define the B matrix as:\n",
    "\\begin{align}\n",
    "B &=\n",
    "\\begin{bmatrix}\n",
    "0 & 0 \\\\\n",
    "0 & 0 \\\\\n",
    "0 & 0 \\\\\n",
    "\\frac{1}{m} & 0 \\\\\n",
    "0 & 0 \\\\\n",
    "0 & \\frac{1}{J}\n",
    "\\end{bmatrix}\n",
    "\\end{align}"
   ]
  },
  {
   "cell_type": "markdown",
   "metadata": {},
   "source": [
    "## We can define the C matrix as:\n",
    "\\begin{align}\n",
    "C^T &= \n",
    "\\begin{bmatrix}\n",
    "0 & 0 & 0 & 1 & 0 & 0 \\\\\n",
    "0 & 0 & 0 & 0 & 0 & 1 \\\\\n",
    "\\end{bmatrix}\n",
    "\\end{align}"
   ]
  },
  {
   "cell_type": "code",
   "execution_count": 5,
   "metadata": {},
   "outputs": [
    {
     "name": "stdout",
     "output_type": "stream",
     "text": [
      "⎡0  0⎤\n",
      "⎢    ⎥\n",
      "⎢0  0⎥\n",
      "⎢    ⎥\n",
      "⎢0  0⎥\n",
      "⎢    ⎥\n",
      "⎢0  0⎥\n",
      "⎢    ⎥\n",
      "⎢1  0⎥\n",
      "⎢    ⎥\n",
      "⎢0  0⎥\n",
      "⎢    ⎥\n",
      "⎣0  1⎦\n"
     ]
    }
   ],
   "source": [
    "C = Matrix([[0,0,0,0,1,0,0],[0,0,0,0,0,0,1]]).T\n",
    "pprint(C)"
   ]
  },
  {
   "cell_type": "markdown",
   "metadata": {},
   "source": [
    "## Define rotation matrix $R_{z,\\psi}$ around axis z:"
   ]
  },
  {
   "cell_type": "code",
   "execution_count": 6,
   "metadata": {},
   "outputs": [
    {
     "name": "stdout",
     "output_type": "stream",
     "text": [
      "⎡1      0            0     ⎤\n",
      "⎢                          ⎥\n",
      "⎢0  cos(x₅(t))  -sin(x₅(t))⎥\n",
      "⎢                          ⎥\n",
      "⎣0  sin(x₅(t))  cos(x₅(t)) ⎦\n"
     ]
    }
   ],
   "source": [
    "R_z_psi = rot_axis1(x5).T\n",
    "pprint(R_z_psi)"
   ]
  },
  {
   "cell_type": "markdown",
   "metadata": {},
   "source": [
    "## Create rotation velocity matrix $S_{z,\\psi}$ with: \n",
    "\\begin{align}\n",
    "S_{z,\\psi} = \\dot{R}_{z,\\psi} R_{z,\\psi}^T\n",
    "\\end{align}"
   ]
  },
  {
   "cell_type": "code",
   "execution_count": 7,
   "metadata": {},
   "outputs": [
    {
     "name": "stdout",
     "output_type": "stream",
     "text": [
      "⎡0      0          0     ⎤\n",
      "⎢                        ⎥\n",
      "⎢               d        ⎥\n",
      "⎢0      0      -──(x₅(t))⎥\n",
      "⎢               dt       ⎥\n",
      "⎢                        ⎥\n",
      "⎢   d                    ⎥\n",
      "⎢0  ──(x₅(t))      0     ⎥\n",
      "⎣   dt                   ⎦\n"
     ]
    }
   ],
   "source": [
    "S_z_psi = R_z_psi.diff(t)*R_z_psi.T\n",
    "pprint(simplify(S_z_psi))"
   ]
  },
  {
   "cell_type": "markdown",
   "metadata": {},
   "source": [
    "## We can describe the rotation as:\n",
    "\\begin{align}\n",
    "\\begin{bmatrix}\n",
    "x_0 \\\\\n",
    "x_1 \\\\\n",
    "\\end{bmatrix} &=\n",
    "R_{z,\\psi}(x_5)\n",
    "\\begin{bmatrix}\n",
    "x_3 t\\\\\n",
    "0 \\\\\n",
    "0\\\\\n",
    "\\end{bmatrix} +\n",
    "R_{z,\\psi}(x_5)\n",
    "\\begin{bmatrix}\n",
    "\\frac{1}{2} x_4 t^2\\\\\n",
    "0 \\\\\n",
    "0\\\\\n",
    "\\end{bmatrix}\n",
    "\\end{align}\n",
    "\n",
    "### with the origin: $[0, 0]^T$"
   ]
  },
  {
   "cell_type": "markdown",
   "metadata": {},
   "source": [
    "## With the transformation:\n",
    "\\begin{align}\n",
    "H(x_5) &= \n",
    "\\begin{bmatrix}\n",
    "R_{z,\\psi}(x_5) & 0 \\\\\n",
    "0 & 1 \\\\\n",
    "\\end{bmatrix}\n",
    "\\end{align}"
   ]
  },
  {
   "cell_type": "markdown",
   "metadata": {},
   "source": [
    "## A matrix?\n",
    "\n",
    "\\begin{align}\n",
    "\\begin{bmatrix}\n",
    "\\dot{x}_1 \\\\\n",
    "\\dot{x}_2 \\\\\n",
    "\\dot{x}_3 \\\\\n",
    "\\dot{x}_4 \\\\\n",
    "\\dot{x}_5 \\\\\n",
    "\\dot{x}_6 \\\\\n",
    "\\end{bmatrix} &=\n",
    "\\begin{bmatrix}\n",
    "1 & 0 & ? & ? & 0 & 0\\\\\n",
    "1 & 0 & ? & ? & 0 & 0\\\\\n",
    "0 & 0 & 1 & t & 0 & 0\\\\\n",
    "0 & 0 & 0 & 1 & 0 & 0\\\\\n",
    "0 & 0 & 0 & 0 & 1 & t\\\\\n",
    "0 & 0 & 0 & 0 & 0 & 1\\\\\n",
    "\\end{bmatrix}\n",
    "\\begin{bmatrix}\n",
    "x_1 \\\\\n",
    "x_2 \\\\\n",
    "x_3 \\\\\n",
    "x_4 \\\\\n",
    "x_5 \\\\\n",
    "x_6 \\\\\n",
    "\\end{bmatrix}\n",
    "\\end{align}\n",
    "\n",
    "\n",
    "How do you construct the A matrix so its independent from $x_5$?"
   ]
  }
 ],
 "metadata": {
  "kernelspec": {
   "display_name": "Python 3",
   "language": "python",
   "name": "python3"
  },
  "language_info": {
   "codemirror_mode": {
    "name": "ipython",
    "version": 3
   },
   "file_extension": ".py",
   "mimetype": "text/x-python",
   "name": "python",
   "nbconvert_exporter": "python",
   "pygments_lexer": "ipython3",
   "version": "3.6.8"
  }
 },
 "nbformat": 4,
 "nbformat_minor": 2
}
